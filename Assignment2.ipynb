{
  "nbformat": 4,
  "nbformat_minor": 0,
  "metadata": {
    "colab": {
      "provenance": [],
      "authorship_tag": "ABX9TyPq3hJGeq6EW+iRv2DRThNV",
      "include_colab_link": true
    },
    "kernelspec": {
      "name": "python3",
      "display_name": "Python 3"
    },
    "language_info": {
      "name": "python"
    }
  },
  "cells": [
    {
      "cell_type": "markdown",
      "metadata": {
        "id": "view-in-github",
        "colab_type": "text"
      },
      "source": [
        "<a href=\"https://colab.research.google.com/github/sivahari2004/AWS-Python/blob/main/Assignment2.ipynb\" target=\"_parent\"><img src=\"https://colab.research.google.com/assets/colab-badge.svg\" alt=\"Open In Colab\"/></a>"
      ]
    },
    {
      "cell_type": "code",
      "execution_count": 1,
      "metadata": {
        "colab": {
          "base_uri": "https://localhost:8080/"
        },
        "id": "ekIUj7vDinMK",
        "outputId": "7d41de33-6ee2-4c98-8956-2ef6e8eb2077"
      },
      "outputs": [
        {
          "output_type": "stream",
          "name": "stdout",
          "text": [
            "Capitalize function: Hello world\n",
            "Replicated .upper() function: HELLO WORLD\n",
            "Replicated .lower() function: hello world\n"
          ]
        }
      ],
      "source": [
        "string = \"hello world\"\n",
        "capitalize_function = string.capitalize()\n",
        "upper_function = string.upper()\n",
        "lower_function = string.lower()\n",
        "print(\"Capitalize function:\", capitalize_function)\n",
        "print(\"Replicated .upper() function:\", upper_function)\n",
        "print(\"Replicated .lower() function:\", lower_function)"
      ]
    },
    {
      "cell_type": "code",
      "source": [
        "given_sequence = [1,2,34,65,1,2,65,66,44,31,25,15,55,33,22,87,123412,9,78,76]\n",
        "odd_sequence = [num for num in given_sequence if num % 2 != 0]\n",
        "print(\"Odd sequence:\", odd_sequence)"
      ],
      "metadata": {
        "colab": {
          "base_uri": "https://localhost:8080/"
        },
        "id": "NIxLSyLxi1H-",
        "outputId": "f5b6aadc-d5d1-459d-8113-2b34a3080e72"
      },
      "execution_count": 2,
      "outputs": [
        {
          "output_type": "stream",
          "name": "stdout",
          "text": [
            "Odd sequence: [1, 65, 1, 65, 31, 25, 15, 55, 33, 87, 9]\n"
          ]
        }
      ]
    },
    {
      "cell_type": "code",
      "source": [
        "fruits = {'apple': 10, 'mango': 20, 'pineapple': 25, 'orange': 30, 'strawberry': 50, 'jackfruit': 10}\n",
        "\n",
        "fruits_more_than_20 = {key: value for key, value in fruits.items() if value > 20}\n",
        "print(\"Fruits with values more than 20:\", fruits_more_than_20)"
      ],
      "metadata": {
        "colab": {
          "base_uri": "https://localhost:8080/"
        },
        "id": "uu8bAWEci8O9",
        "outputId": "2376903d-82ce-4bcb-dd41-25dfbf4eae87"
      },
      "execution_count": 4,
      "outputs": [
        {
          "output_type": "stream",
          "name": "stdout",
          "text": [
            "Fruits with values more than 20: {'pineapple': 25, 'orange': 30, 'strawberry': 50}\n"
          ]
        }
      ]
    },
    {
      "cell_type": "code",
      "source": [
        "fruits = {'jackfruit': 10, 'mango': 20, 'pineapple': 25, 'orange': 30, 'strawberry': 50, 'jackfruit': 10, 'grapes': 40}\n",
        "\n",
        "fruits_more_than_20 = {key: value for key, value in fruits.items() if value > 20}\n",
        "print(\"Fruits with values more than 20:\", fruits_more_than_20)"
      ],
      "metadata": {
        "colab": {
          "base_uri": "https://localhost:8080/"
        },
        "id": "i2BKcWvBjDsq",
        "outputId": "68a2bac4-2100-4d0d-fa9a-50dbb7eaa170"
      },
      "execution_count": 5,
      "outputs": [
        {
          "output_type": "stream",
          "name": "stdout",
          "text": [
            "Fruits with values more than 20: {'pineapple': 25, 'orange': 30, 'strawberry': 50, 'grapes': 40}\n"
          ]
        }
      ]
    }
  ]
}