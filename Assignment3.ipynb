{
  "nbformat": 4,
  "nbformat_minor": 0,
  "metadata": {
    "colab": {
      "provenance": [],
      "authorship_tag": "ABX9TyP0lZRU9AzNZLz+Fjf5yOYn",
      "include_colab_link": true
    },
    "kernelspec": {
      "name": "python3",
      "display_name": "Python 3"
    },
    "language_info": {
      "name": "python"
    }
  },
  "cells": [
    {
      "cell_type": "markdown",
      "metadata": {
        "id": "view-in-github",
        "colab_type": "text"
      },
      "source": [
        "<a href=\"https://colab.research.google.com/github/sivahari2004/AWS-Python/blob/main/Assignment3.ipynb\" target=\"_parent\"><img src=\"https://colab.research.google.com/assets/colab-badge.svg\" alt=\"Open In Colab\"/></a>"
      ]
    },
    {
      "cell_type": "code",
      "execution_count": 1,
      "metadata": {
        "colab": {
          "base_uri": "https://localhost:8080/"
        },
        "id": "uI-p3Sikjepp",
        "outputId": "f8ec0b0f-3be9-4c26-ab78-29042d4a884b"
      },
      "outputs": [
        {
          "output_type": "stream",
          "name": "stdout",
          "text": [
            "Concatenated string: Hello Sivahari\n"
          ]
        }
      ],
      "source": [
        "str1 = \"Hello\"\n",
        "str2 = \"Sivahari\"\n",
        "concatenated_string = str1 + \" \" + str2\n",
        "print(\"Concatenated string:\", concatenated_string)"
      ]
    },
    {
      "cell_type": "code",
      "source": [
        "name = \"Sivahari\"\n",
        "age = 20\n",
        "formatted_string = \"Name: %s, Age: %d\" % (name, age)\n",
        "print(\"Formatted string:\", formatted_string)"
      ],
      "metadata": {
        "colab": {
          "base_uri": "https://localhost:8080/"
        },
        "id": "DAd3fD0Dj4R2",
        "outputId": "22b1fca3-77a8-4697-98fa-2e0bfea159a8"
      },
      "execution_count": 2,
      "outputs": [
        {
          "output_type": "stream",
          "name": "stdout",
          "text": [
            "Formatted string: Name: Sivahari, Age: 20\n"
          ]
        }
      ]
    },
    {
      "cell_type": "code",
      "source": [
        "from string import Template\n",
        "template = Template('Name: Sivahari,age: 19')\n",
        "formatted_string = template.substitute(name=name, age=age)\n",
        "print(\"Formatted string:\", formatted_string)"
      ],
      "metadata": {
        "colab": {
          "base_uri": "https://localhost:8080/"
        },
        "id": "cLERQNxbkKTL",
        "outputId": "dadbca7a-0caa-4b47-f89c-fa8be77806b1"
      },
      "execution_count": 5,
      "outputs": [
        {
          "output_type": "stream",
          "name": "stdout",
          "text": [
            "Formatted string: Name: Sivahari,age: 19\n"
          ]
        }
      ]
    },
    {
      "cell_type": "code",
      "source": [
        "formatted_string = \"Name: {}, Age: {}\".format(name, age)\n",
        "print(\"Formatted string:\", formatted_string)"
      ],
      "metadata": {
        "colab": {
          "base_uri": "https://localhost:8080/"
        },
        "id": "IwyINS6bkQyp",
        "outputId": "00f4f08c-fa1c-4baa-aac0-a6301173a69d"
      },
      "execution_count": 6,
      "outputs": [
        {
          "output_type": "stream",
          "name": "stdout",
          "text": [
            "Formatted string: Name: Sivahari, Age: 20\n"
          ]
        }
      ]
    },
    {
      "cell_type": "code",
      "source": [
        "result_add = 5 + 5\n",
        "print(\"Addition result:\", result_add)"
      ],
      "metadata": {
        "colab": {
          "base_uri": "https://localhost:8080/"
        },
        "id": "MSSW9M2mkTB4",
        "outputId": "4c8f9c43-9e93-44ca-e13b-04c653c286a2"
      },
      "execution_count": 7,
      "outputs": [
        {
          "output_type": "stream",
          "name": "stdout",
          "text": [
            "Addition result: 10\n"
          ]
        }
      ]
    },
    {
      "cell_type": "code",
      "source": [
        "result_sub = 74 - 3\n",
        "print(\"Subtraction result:\", result_sub)"
      ],
      "metadata": {
        "colab": {
          "base_uri": "https://localhost:8080/"
        },
        "id": "Tfko9M3GkVS7",
        "outputId": "33a6b32a-9001-4386-d991-44116e92e2c1"
      },
      "execution_count": 8,
      "outputs": [
        {
          "output_type": "stream",
          "name": "stdout",
          "text": [
            "Subtraction result: 71\n"
          ]
        }
      ]
    },
    {
      "cell_type": "code",
      "source": [
        "result_mul = 7 * 9\n",
        "print(\"Multiplication result:\", result_mul)"
      ],
      "metadata": {
        "colab": {
          "base_uri": "https://localhost:8080/"
        },
        "id": "bqvWr6b7kZv4",
        "outputId": "57a3d90a-a55e-43cf-b5c3-c42e8b467336"
      },
      "execution_count": 9,
      "outputs": [
        {
          "output_type": "stream",
          "name": "stdout",
          "text": [
            "Multiplication result: 63\n"
          ]
        }
      ]
    },
    {
      "cell_type": "code",
      "source": [
        "result_div = 10 / 5\n",
        "print(\"Division result:\", result_div)"
      ],
      "metadata": {
        "colab": {
          "base_uri": "https://localhost:8080/"
        },
        "id": "FEQEYO8QkeFh",
        "outputId": "58b3bf00-7264-489a-c60c-d6a1c35e92ac"
      },
      "execution_count": 10,
      "outputs": [
        {
          "output_type": "stream",
          "name": "stdout",
          "text": [
            "Division result: 2.0\n"
          ]
        }
      ]
    },
    {
      "cell_type": "code",
      "source": [
        "result_exp = 3 ** 5\n",
        "print(\"Exponentiation result:\", result_exp)"
      ],
      "metadata": {
        "colab": {
          "base_uri": "https://localhost:8080/"
        },
        "id": "eXUC1G3nkhm_",
        "outputId": "de53bb37-5d64-425c-c607-d586cc2ae635"
      },
      "execution_count": 11,
      "outputs": [
        {
          "output_type": "stream",
          "name": "stdout",
          "text": [
            "Exponentiation result: 243\n"
          ]
        }
      ]
    },
    {
      "cell_type": "code",
      "source": [
        "result_mod = 24 % 2\n",
        "print(\"Modulus result:\", result_mod)"
      ],
      "metadata": {
        "colab": {
          "base_uri": "https://localhost:8080/"
        },
        "id": "3CRYyjHSkjuz",
        "outputId": "ee2026e9-fe3c-432e-c2ad-8059f5aeec50"
      },
      "execution_count": 12,
      "outputs": [
        {
          "output_type": "stream",
          "name": "stdout",
          "text": [
            "Modulus result: 0\n"
          ]
        }
      ]
    },
    {
      "cell_type": "code",
      "source": [
        "x = 10\n",
        "x -= 3\n",
        "print(\"After subtraction assignment:\", x)"
      ],
      "metadata": {
        "colab": {
          "base_uri": "https://localhost:8080/"
        },
        "id": "-Foqhu__kpEf",
        "outputId": "ad597cd7-a267-4b1d-834c-eaf560fb615c"
      },
      "execution_count": 13,
      "outputs": [
        {
          "output_type": "stream",
          "name": "stdout",
          "text": [
            "After subtraction assignment: 7\n"
          ]
        }
      ]
    },
    {
      "cell_type": "code",
      "source": [
        "y = 5\n",
        "y *= 2\n",
        "print(\"After multiplication assignment:\", y)"
      ],
      "metadata": {
        "colab": {
          "base_uri": "https://localhost:8080/"
        },
        "id": "FQyE26kUkw_d",
        "outputId": "5b81e05f-addd-45d1-c6e0-e9896611ac92"
      },
      "execution_count": 14,
      "outputs": [
        {
          "output_type": "stream",
          "name": "stdout",
          "text": [
            "After multiplication assignment: 10\n"
          ]
        }
      ]
    },
    {
      "cell_type": "code",
      "source": [
        "z = 15\n",
        "z /= 4\n",
        "print(\"After division assignment:\", z)"
      ],
      "metadata": {
        "id": "Y3Y9AWe2k1m0",
        "outputId": "872d21f7-37d4-4fb3-a16f-43300b42db93",
        "colab": {
          "base_uri": "https://localhost:8080/"
        }
      },
      "execution_count": 15,
      "outputs": [
        {
          "output_type": "stream",
          "name": "stdout",
          "text": [
            "After division assignment: 3.75\n"
          ]
        }
      ]
    }
  ]
}