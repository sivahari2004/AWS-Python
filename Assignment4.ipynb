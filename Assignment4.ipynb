{
  "nbformat": 4,
  "nbformat_minor": 0,
  "metadata": {
    "colab": {
      "provenance": [],
      "authorship_tag": "ABX9TyO5CMcaAv8NbUl4otIdxONx",
      "include_colab_link": true
    },
    "kernelspec": {
      "name": "python3",
      "display_name": "Python 3"
    },
    "language_info": {
      "name": "python"
    }
  },
  "cells": [
    {
      "cell_type": "markdown",
      "metadata": {
        "id": "view-in-github",
        "colab_type": "text"
      },
      "source": [
        "<a href=\"https://colab.research.google.com/github/sivahari2004/AWS-Python/blob/main/Assignment4.ipynb\" target=\"_parent\"><img src=\"https://colab.research.google.com/assets/colab-badge.svg\" alt=\"Open In Colab\"/></a>"
      ]
    },
    {
      "cell_type": "code",
      "execution_count": 1,
      "metadata": {
        "colab": {
          "base_uri": "https://localhost:8080/"
        },
        "id": "ttQTad3ilDqb",
        "outputId": "b85d6fdc-b459-4e20-bf89-47cc4163ea18"
      },
      "outputs": [
        {
          "output_type": "stream",
          "name": "stdout",
          "text": [
            "Upper case: SIVAHARI\n",
            "Lower case: sivahari\n",
            "Capitalized: Sivahari\n",
            "Replaced: Sivahari\n"
          ]
        }
      ],
      "source": [
        "# Define a string\n",
        "name = \"Sivahari\"\n",
        "# Convert to upper case\n",
        "upper_case = name.upper()\n",
        "print(\"Upper case:\", upper_case)\n",
        "\n",
        "# Convert to lower case\n",
        "lower_case = name.lower()\n",
        "print(\"Lower case:\", lower_case)\n",
        "\n",
        "# Capitalize the string\n",
        "capitalized = name.capitalize()\n",
        "print(\"Capitalized:\", capitalized)\n",
        "\n",
        "# Replace 'e' with 'E'\n",
        "replaced = name.replace('e', 'E')\n",
        "print(\"Replaced:\", replaced)"
      ]
    },
    {
      "cell_type": "code",
      "source": [
        "# Define a list\n",
        "L = [1, 2, 3]\n",
        "\n",
        "# Extend the list\n",
        "L.extend([5, 6, 7])\n",
        "\n",
        "# Remove the 5th value\n",
        "del L[4]\n",
        "\n",
        "print(\"Extended list:\", L)"
      ],
      "metadata": {
        "colab": {
          "base_uri": "https://localhost:8080/"
        },
        "id": "wSXdmtw_lbP3",
        "outputId": "d15ea2dd-76b6-44f6-b755-b97d4e94e072"
      },
      "execution_count": 2,
      "outputs": [
        {
          "output_type": "stream",
          "name": "stdout",
          "text": [
            "Extended list: [1, 2, 3, 5, 7]\n"
          ]
        }
      ]
    },
    {
      "cell_type": "code",
      "source": [
        "# Define a dictionary\n",
        "d = {'mango': 10, 'banana': 0, 'apple': 15, 'orange': 0, 'pineapple': 20}\n",
        "\n",
        "# Remove out of stock fruits (value == 0)\n",
        "out_of_stock = [key for key, value in d.items() if value == 0]\n",
        "for fruit in out_of_stock:\n",
        "    del d[fruit]\n",
        "\n",
        "# Update mango quantity to 15 and decrease pineapple by 5\n",
        "d['mango'] = 15\n",
        "d['pineapple'] -= 5\n",
        "\n",
        "print(\"Updated dictionary:\", d)"
      ],
      "metadata": {
        "colab": {
          "base_uri": "https://localhost:8080/"
        },
        "id": "KZeY13lQle9-",
        "outputId": "9cc39482-f11a-48ac-db45-5dd6483621f6"
      },
      "execution_count": 3,
      "outputs": [
        {
          "output_type": "stream",
          "name": "stdout",
          "text": [
            "Updated dictionary: {'mango': 15, 'apple': 15, 'pineapple': 15}\n"
          ]
        }
      ]
    },
    {
      "cell_type": "code",
      "source": [
        "# Given list\n",
        "a = [2, 4, 6, 8, 10]\n",
        "\n",
        "# Problem 1\n",
        "a += [12, 14, 16, 18]\n",
        "print(a)"
      ],
      "metadata": {
        "colab": {
          "base_uri": "https://localhost:8080/"
        },
        "id": "OYWVprI5lhkW",
        "outputId": "ffade8dd-1c33-4480-dba7-84bb561c69f1"
      },
      "execution_count": 4,
      "outputs": [
        {
          "output_type": "stream",
          "name": "stdout",
          "text": [
            "[2, 4, 6, 8, 10, 12, 14, 16, 18]\n"
          ]
        }
      ]
    },
    {
      "cell_type": "code",
      "source": [
        "# Given list\n",
        "a = [2, 4, 6, 8, 10]\n",
        "\n",
        "# Problem 2\n",
        "a += [12, 14, 16, 18]\n",
        "print(a)"
      ],
      "metadata": {
        "colab": {
          "base_uri": "https://localhost:8080/"
        },
        "id": "QZYHtlF5lk90",
        "outputId": "5eb9c0aa-2cef-451d-9ffc-051b004c0468"
      },
      "execution_count": 5,
      "outputs": [
        {
          "output_type": "stream",
          "name": "stdout",
          "text": [
            "[2, 4, 6, 8, 10, 12, 14, 16, 18]\n"
          ]
        }
      ]
    },
    {
      "cell_type": "code",
      "source": [
        "# Problem 3\n",
        "a[:] = [2, 3, 4, 5, 6, 7, 8, 10]\n",
        "print(a)"
      ],
      "metadata": {
        "colab": {
          "base_uri": "https://localhost:8080/"
        },
        "id": "2AFePyNGlod0",
        "outputId": "81025226-b42b-43d1-dc25-c0b12754d1d2"
      },
      "execution_count": 6,
      "outputs": [
        {
          "output_type": "stream",
          "name": "stdout",
          "text": [
            "[2, 3, 4, 5, 6, 7, 8, 10]\n"
          ]
        }
      ]
    },
    {
      "cell_type": "code",
      "source": [
        "# Problem 4\n",
        "a[3:3] = ['a', 'b', 'c']\n",
        "print(a)"
      ],
      "metadata": {
        "colab": {
          "base_uri": "https://localhost:8080/"
        },
        "id": "AlEmyLCLlvtW",
        "outputId": "9aa3cf8b-1802-40bd-d84f-aa0235c716dc"
      },
      "execution_count": 7,
      "outputs": [
        {
          "output_type": "stream",
          "name": "stdout",
          "text": [
            "[2, 3, 4, 'a', 'b', 'c', 5, 6, 7, 8, 10]\n"
          ]
        }
      ]
    },
    {
      "cell_type": "code",
      "source": [
        "# Problem 5\n",
        "a = a\n",
        "print(a)"
      ],
      "metadata": {
        "colab": {
          "base_uri": "https://localhost:8080/"
        },
        "id": "LswHO56Alyku",
        "outputId": "1480e115-f13f-48c1-dda2-db904e7bcc6a"
      },
      "execution_count": 8,
      "outputs": [
        {
          "output_type": "stream",
          "name": "stdout",
          "text": [
            "[2, 3, 4, 'a', 'b', 'c', 5, 6, 7, 8, 10]\n"
          ]
        }
      ]
    },
    {
      "cell_type": "code",
      "source": [
        "# Problem 6\n",
        "a[0:0] = []\n",
        "print(a[0:0])"
      ],
      "metadata": {
        "colab": {
          "base_uri": "https://localhost:8080/"
        },
        "id": "Eabem18alzu3",
        "outputId": "5ddc592c-fc45-47af-fab4-0124f908adba"
      },
      "execution_count": 9,
      "outputs": [
        {
          "output_type": "stream",
          "name": "stdout",
          "text": [
            "[]\n"
          ]
        }
      ]
    },
    {
      "cell_type": "code",
      "source": [
        "# Problem 7\n",
        "print(a[::-1])"
      ],
      "metadata": {
        "colab": {
          "base_uri": "https://localhost:8080/"
        },
        "id": "Nm6hW7nMl3yX",
        "outputId": "3e770118-bcdb-4971-f2e7-bac209df349e"
      },
      "execution_count": 10,
      "outputs": [
        {
          "output_type": "stream",
          "name": "stdout",
          "text": [
            "[10, 8, 7, 6, 5, 'c', 'b', 'a', 4, 3, 2]\n"
          ]
        }
      ]
    },
    {
      "cell_type": "code",
      "source": [
        "# Problem 8\n",
        "print(a[0:3])"
      ],
      "metadata": {
        "colab": {
          "base_uri": "https://localhost:8080/"
        },
        "id": "sqFkAUN9l43V",
        "outputId": "7a4b73d2-dcd0-4b5c-9ed8-f084e992a384"
      },
      "execution_count": 11,
      "outputs": [
        {
          "output_type": "stream",
          "name": "stdout",
          "text": [
            "[2, 3, 4]\n"
          ]
        }
      ]
    },
    {
      "cell_type": "code",
      "source": [
        "# Problem 9\n",
        "print(a[2:])"
      ],
      "metadata": {
        "colab": {
          "base_uri": "https://localhost:8080/"
        },
        "id": "bLPgwXS6l-Cj",
        "outputId": "18f3c2fb-bde7-4f8b-c769-fb1b4e894fe9"
      },
      "execution_count": 12,
      "outputs": [
        {
          "output_type": "stream",
          "name": "stdout",
          "text": [
            "[4, 'a', 'b', 'c', 5, 6, 7, 8, 10]\n"
          ]
        }
      ]
    },
    {
      "cell_type": "code",
      "source": [
        "# Problem 10\n",
        "a[1:4] = []\n",
        "print(a)"
      ],
      "metadata": {
        "colab": {
          "base_uri": "https://localhost:8080/"
        },
        "id": "FDkTQGf6mBLB",
        "outputId": "23e21e74-c5d8-4e3e-d512-bf6bf1003475"
      },
      "execution_count": 13,
      "outputs": [
        {
          "output_type": "stream",
          "name": "stdout",
          "text": [
            "[2, 'b', 'c', 5, 6, 7, 8, 10]\n"
          ]
        }
      ]
    },
    {
      "cell_type": "code",
      "source": [
        "# Problem 11\n",
        "print(a[1:4])"
      ],
      "metadata": {
        "colab": {
          "base_uri": "https://localhost:8080/"
        },
        "id": "fsDjLVhAmDok",
        "outputId": "8f80d908-6fad-4b65-d45b-9994807be453"
      },
      "execution_count": 14,
      "outputs": [
        {
          "output_type": "stream",
          "name": "stdout",
          "text": [
            "['b', 'c', 5]\n"
          ]
        }
      ]
    },
    {
      "cell_type": "code",
      "source": [
        "# Problem 12\n",
        "a[-1:] = a[1:] + [12, 14, 16, 18, 20]\n",
        "print(a)"
      ],
      "metadata": {
        "colab": {
          "base_uri": "https://localhost:8080/"
        },
        "id": "z1prm8dhmGFH",
        "outputId": "143aca47-8c08-468e-8963-46acb81e190d"
      },
      "execution_count": 15,
      "outputs": [
        {
          "output_type": "stream",
          "name": "stdout",
          "text": [
            "[2, 'b', 'c', 5, 6, 7, 8, 'b', 'c', 5, 6, 7, 8, 10, 12, 14, 16, 18, 20]\n"
          ]
        }
      ]
    }
  ]
}