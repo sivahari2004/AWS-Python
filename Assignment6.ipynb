{
  "nbformat": 4,
  "nbformat_minor": 0,
  "metadata": {
    "colab": {
      "provenance": [],
      "authorship_tag": "ABX9TyPXNOLdayYh6WWnPmZSsH+X",
      "include_colab_link": true
    },
    "kernelspec": {
      "name": "python3",
      "display_name": "Python 3"
    },
    "language_info": {
      "name": "python"
    }
  },
  "cells": [
    {
      "cell_type": "markdown",
      "metadata": {
        "id": "view-in-github",
        "colab_type": "text"
      },
      "source": [
        "<a href=\"https://colab.research.google.com/github/sivahari2004/AWS-Python/blob/main/Assignment6.ipynb\" target=\"_parent\"><img src=\"https://colab.research.google.com/assets/colab-badge.svg\" alt=\"Open In Colab\"/></a>"
      ]
    },
    {
      "cell_type": "code",
      "execution_count": 1,
      "metadata": {
        "colab": {
          "base_uri": "https://localhost:8080/"
        },
        "id": "PbgWIRainXCS",
        "outputId": "cd2e33e2-807f-40ac-e29f-f4f6b2c59fdf"
      },
      "outputs": [
        {
          "output_type": "stream",
          "name": "stdout",
          "text": [
            "(4, 0)\n"
          ]
        }
      ],
      "source": [
        "def cow_bull(secret, guess):\n",
        "    cow = sum(s == g for s, g in zip(secret, guess))\n",
        "    bull = sum(g in secret for g in guess) - cow\n",
        "    return cow, bull\n",
        "\n",
        "# Example usage\n",
        "secret = \"hello\"\n",
        "guess = \"hallo\"\n",
        "print(cow_bull(secret, guess))"
      ]
    },
    {
      "cell_type": "code",
      "source": [
        "def is_palindrome(s):\n",
        "    return s == s[::-1]\n",
        "\n",
        "# Example usage\n",
        "print(is_palindrome(\"radar\"))\n",
        "print(is_palindrome(\"hello\"))"
      ],
      "metadata": {
        "colab": {
          "base_uri": "https://localhost:8080/"
        },
        "id": "G8m5G_FFnhTv",
        "outputId": "340f1a76-e782-4c44-d353-ab87a81a2c01"
      },
      "execution_count": 2,
      "outputs": [
        {
          "output_type": "stream",
          "name": "stdout",
          "text": [
            "True\n",
            "False\n"
          ]
        }
      ]
    },
    {
      "cell_type": "code",
      "source": [
        "def fibonacci(n):\n",
        "    fibo = [0, 1]\n",
        "    while len(fibo) < n:\n",
        "        fibo.append(fibo[-1] + fibo[-2])\n",
        "    return fibo[:n]\n",
        "\n",
        "# Example usage\n",
        "print(fibonacci(10))"
      ],
      "metadata": {
        "colab": {
          "base_uri": "https://localhost:8080/"
        },
        "id": "pE58i4S2njKE",
        "outputId": "94470647-366c-4480-bfc2-8219c1336a33"
      },
      "execution_count": 3,
      "outputs": [
        {
          "output_type": "stream",
          "name": "stdout",
          "text": [
            "[0, 1, 1, 2, 3, 5, 8, 13, 21, 34]\n"
          ]
        }
      ]
    },
    {
      "cell_type": "code",
      "source": [
        "def my_range(start, stop=None, step=1):\n",
        "    if stop is None:\n",
        "        stop = start\n",
        "        start = 0\n",
        "    return list(range(start, stop, step))\n",
        "\n",
        "# Example usage\n",
        "print(my_range(5))\n",
        "print(my_range(2, 8, 2))"
      ],
      "metadata": {
        "colab": {
          "base_uri": "https://localhost:8080/"
        },
        "id": "cQOjNJHSnljE",
        "outputId": "e2f8cd39-dc8d-4d0b-ff22-b934823fe93b"
      },
      "execution_count": 4,
      "outputs": [
        {
          "output_type": "stream",
          "name": "stdout",
          "text": [
            "[0, 1, 2, 3, 4]\n",
            "[2, 4, 6]\n"
          ]
        }
      ]
    }
  ]
}